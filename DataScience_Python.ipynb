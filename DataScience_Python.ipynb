{
  "nbformat": 4,
  "nbformat_minor": 0,
  "metadata": {
    "colab": {
      "provenance": [],
      "authorship_tag": "ABX9TyOjRckuIRV82k4yj7MrJDN+"
    },
    "kernelspec": {
      "name": "python3",
      "display_name": "Python 3"
    },
    "language_info": {
      "name": "python"
    }
  },
  "cells": [
    {
      "cell_type": "markdown",
      "source": [
        "6th August 24"
      ],
      "metadata": {
        "id": "aqcs84w7wW1k"
      }
    },
    {
      "cell_type": "markdown",
      "source": [
        "Data type\n",
        "1. Integer\n",
        "2. string\n",
        "3. boolen\n",
        "4. commplex\n",
        "5. float"
      ],
      "metadata": {
        "id": "qtyQtr7Gw0-H"
      }
    },
    {
      "cell_type": "code",
      "source": [
        "a = 5\n",
        "b = 5\n",
        "print (a+b)"
      ],
      "metadata": {
        "id": "OtoW3xtsxCSZ",
        "outputId": "34c1b8ba-a935-455c-cbb5-7d0d70ed9c31",
        "colab": {
          "base_uri": "https://localhost:8080/"
        }
      },
      "execution_count": 1,
      "outputs": [
        {
          "output_type": "stream",
          "name": "stdout",
          "text": [
            "10\n"
          ]
        }
      ]
    },
    {
      "cell_type": "code",
      "source": [
        "type(a)\n",
        "type(b)"
      ],
      "metadata": {
        "id": "oGX09S9ixNej",
        "outputId": "a8a58667-9617-44b9-f1d2-a4332be3ad28",
        "colab": {
          "base_uri": "https://localhost:8080/"
        }
      },
      "execution_count": 2,
      "outputs": [
        {
          "output_type": "execute_result",
          "data": {
            "text/plain": [
              "int"
            ]
          },
          "metadata": {},
          "execution_count": 2
        }
      ]
    },
    {
      "cell_type": "code",
      "source": [
        "a = \"Python\"\n",
        "type(a)"
      ],
      "metadata": {
        "id": "CPl24tj9xS05",
        "outputId": "2f33da19-1a63-44c3-eb37-a7b60a2e3b6d",
        "colab": {
          "base_uri": "https://localhost:8080/"
        }
      },
      "execution_count": 3,
      "outputs": [
        {
          "output_type": "execute_result",
          "data": {
            "text/plain": [
              "str"
            ]
          },
          "metadata": {},
          "execution_count": 3
        }
      ]
    },
    {
      "cell_type": "code",
      "source": [
        "a= 5.5\n",
        "type(a)\n",
        "\n"
      ],
      "metadata": {
        "id": "r071PBCQxYw4",
        "outputId": "20444b5b-11cd-4cbf-afc2-8842e82d188e",
        "colab": {
          "base_uri": "https://localhost:8080/"
        }
      },
      "execution_count": 8,
      "outputs": [
        {
          "output_type": "execute_result",
          "data": {
            "text/plain": [
              "float"
            ]
          },
          "metadata": {},
          "execution_count": 8
        }
      ]
    },
    {
      "cell_type": "code",
      "source": [
        "b= 5j+5\n",
        "type(b)\n"
      ],
      "metadata": {
        "id": "8h_fxrt3yCNG",
        "outputId": "55a73be1-39c5-42fa-f838-663a7ad19e05",
        "colab": {
          "base_uri": "https://localhost:8080/"
        }
      },
      "execution_count": 9,
      "outputs": [
        {
          "output_type": "execute_result",
          "data": {
            "text/plain": [
              "complex"
            ]
          },
          "metadata": {},
          "execution_count": 9
        }
      ]
    },
    {
      "cell_type": "markdown",
      "source": [
        "Data Structure\n",
        "1. List\n",
        "2. Dictionry\n",
        "3. Flot\n",
        "4. Set"
      ],
      "metadata": {
        "id": "aCN_saxXB33i"
      }
    },
    {
      "cell_type": "markdown",
      "source": [
        "###List\n"
      ],
      "metadata": {
        "id": "T6ggBEoYCNOp"
      }
    },
    {
      "cell_type": "code",
      "source": [
        "list = [1,2,3,4,5]\n",
        "print(list)"
      ],
      "metadata": {
        "id": "3QeOmtJQCeY5",
        "outputId": "f6c5c59e-9f8b-4c25-d045-f8c7f3a18c3a",
        "colab": {
          "base_uri": "https://localhost:8080/"
        }
      },
      "execution_count": 10,
      "outputs": [
        {
          "output_type": "stream",
          "name": "stdout",
          "text": [
            "[1, 2, 3, 4, 5]\n"
          ]
        }
      ]
    },
    {
      "cell_type": "code",
      "source": [
        "type(list)"
      ],
      "metadata": {
        "id": "W5c3clEgCc-i",
        "outputId": "4c5b6fe0-5b70-4bd0-9a4b-8bd4a3ab97a6",
        "colab": {
          "base_uri": "https://localhost:8080/"
        }
      },
      "execution_count": 11,
      "outputs": [
        {
          "output_type": "execute_result",
          "data": {
            "text/plain": [
              "list"
            ]
          },
          "metadata": {},
          "execution_count": 11
        }
      ]
    },
    {
      "cell_type": "code",
      "source": [
        "list1  = ['Python', 5.5, 33, 3j+6]\n",
        "print(list1)\n",
        "print(type(list1))\n",
        "print(list1[0])\n"
      ],
      "metadata": {
        "id": "GxPM-o5-CxU1",
        "outputId": "ca533b5f-75fc-4863-cff8-315e7851a03e",
        "colab": {
          "base_uri": "https://localhost:8080/"
        }
      },
      "execution_count": 22,
      "outputs": [
        {
          "output_type": "stream",
          "name": "stdout",
          "text": [
            "['Python', 5.5, 33, (6+3j)]\n",
            "<class 'list'>\n",
            "Python\n"
          ]
        }
      ]
    },
    {
      "cell_type": "code",
      "source": [
        "list2 = ['Zero','one','Two','Three','Four','Five','Six','Seven','Eight','Nine','Ten']\n",
        "print(list2)\n",
        "print(list2[2:4])\n",
        "if 'Three'in list2:\n",
        "  print(\"Yes\");"
      ],
      "metadata": {
        "id": "_srzy8oyFFU7",
        "outputId": "02faece1-d475-4eb7-9dba-66dcd50a2609",
        "colab": {
          "base_uri": "https://localhost:8080/"
        }
      },
      "execution_count": 30,
      "outputs": [
        {
          "output_type": "stream",
          "name": "stdout",
          "text": [
            "['Zero', 'one', 'Two', 'Three', 'Four', 'Five', 'Six', 'Seven', 'Eight', 'Nine', 'Ten']\n",
            "['Two', 'Three']\n",
            "Yes\n"
          ]
        }
      ]
    },
    {
      "cell_type": "markdown",
      "source": [
        "5th August 24"
      ],
      "metadata": {
        "id": "YCvXhTxun7x2"
      }
    },
    {
      "cell_type": "markdown",
      "source": [],
      "metadata": {
        "id": "O8DGNWDlCGKz"
      }
    },
    {
      "cell_type": "code",
      "source": [
        "!git clone https://github.com/ShravanJadhav/DataScience_Practice.git"
      ],
      "metadata": {
        "colab": {
          "base_uri": "https://localhost:8080/"
        },
        "id": "gwYuGss4rXZR",
        "outputId": "1f16436a-9085-4d0e-a6d5-71d87d724df0"
      },
      "execution_count": null,
      "outputs": [
        {
          "output_type": "stream",
          "name": "stdout",
          "text": [
            "fatal: destination path 'DataScience_Practice' already exists and is not an empty directory.\n"
          ]
        }
      ]
    },
    {
      "cell_type": "code",
      "source": [
        "print(\"Hello Python\")"
      ],
      "metadata": {
        "colab": {
          "base_uri": "https://localhost:8080/"
        },
        "id": "s36DcxM3sVQV",
        "outputId": "82d97699-621d-4824-df57-64b8ebda6656"
      },
      "execution_count": null,
      "outputs": [
        {
          "output_type": "stream",
          "name": "stdout",
          "text": [
            "Hello Python\n"
          ]
        }
      ]
    },
    {
      "cell_type": "code",
      "source": [],
      "metadata": {
        "id": "Dli9QOp0zx0S"
      },
      "execution_count": null,
      "outputs": []
    }
  ]
}