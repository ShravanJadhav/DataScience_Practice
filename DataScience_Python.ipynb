{
  "nbformat": 4,
  "nbformat_minor": 0,
  "metadata": {
    "colab": {
      "provenance": [],
      "authorship_tag": "ABX9TyP67RCMbaEu2fEiC/rEgtR7"
    },
    "kernelspec": {
      "name": "python3",
      "display_name": "Python 3"
    },
    "language_info": {
      "name": "python"
    }
  },
  "cells": [
    {
      "cell_type": "markdown",
      "source": [
        "###Day7\n",
        "##Dataframe\n",
        "Dataframe is nothing but 2 diamentional array which store data in tabular form\n"
      ],
      "metadata": {
        "id": "-YRzbgznmRT0"
      }
    },
    {
      "cell_type": "code",
      "source": [
        "#Scalar object\n",
        "a= 5\n",
        "a"
      ],
      "metadata": {
        "colab": {
          "base_uri": "https://localhost:8080/"
        },
        "id": "FP9bN0OTmiWZ",
        "outputId": "9cf86c0e-4c3e-4a9e-e5b5-f83b0bab6d8b"
      },
      "execution_count": 1,
      "outputs": [
        {
          "output_type": "execute_result",
          "data": {
            "text/plain": [
              "5"
            ]
          },
          "metadata": {},
          "execution_count": 1
        }
      ]
    },
    {
      "cell_type": "code",
      "source": [
        "#vector object\n",
        "a=[1,2,3,4,5,6,7]\n",
        "a"
      ],
      "metadata": {
        "colab": {
          "base_uri": "https://localhost:8080/"
        },
        "id": "Hyycz-0QmqfV",
        "outputId": "e49d7f41-2899-4d36-dcd1-fd7a084259a0"
      },
      "execution_count": 2,
      "outputs": [
        {
          "output_type": "execute_result",
          "data": {
            "text/plain": [
              "[1, 2, 3, 4, 5, 6, 7]"
            ]
          },
          "metadata": {},
          "execution_count": 2
        }
      ]
    },
    {
      "cell_type": "code",
      "source": [
        "#two diamentional array\n",
        "c = [[1,2,3],[4,5,6],[7,8,9]]\n",
        "c"
      ],
      "metadata": {
        "colab": {
          "base_uri": "https://localhost:8080/"
        },
        "id": "nPXetOsbmzK3",
        "outputId": "323c87ed-4853-4f7b-b664-8ca528cce767"
      },
      "execution_count": 3,
      "outputs": [
        {
          "output_type": "execute_result",
          "data": {
            "text/plain": [
              "[[1, 2, 3], [4, 5, 6], [7, 8, 9]]"
            ]
          },
          "metadata": {},
          "execution_count": 3
        }
      ]
    },
    {
      "cell_type": "markdown",
      "source": [
        "### Key-Libraries\n",
        "1) Pandas\n",
        "- It is used for handeling and manipulating DataFrames(2 Dimensional Objects)\n",
        "- Dataframe is a special kind of datastructures which allows you to store data in tabular format.\n",
        "\n",
        "2) Numpy\n",
        "- Numerical Python.\n",
        "- It is used for numerical Operations.\n",
        "\n",
        "3) Matplotlib and Seaborn\n",
        "- It is used for data visualization in python.\n",
        "- Seaborn is built on Matplotlib.\n",
        "\n",
        "4) Scipy(scientific Python)\n",
        "-  it is used for complex statistical Operations(Inferential Stats)\n",
        "\n",
        "5) StatsModel\n",
        "- It is used for Statistical Modeling.\n",
        "\n",
        "6) Sklearn\n",
        "- Sci-kit learn.\n",
        "- It is used for Machine learning Algorithm.\n",
        "\n"
      ],
      "metadata": {
        "id": "xrIXkVHOolkC"
      }
    },
    {
      "cell_type": "code",
      "source": [
        "import pandas as pd"
      ],
      "metadata": {
        "id": "EfmoDIOmnRoZ"
      },
      "execution_count": 13,
      "outputs": []
    },
    {
      "cell_type": "code",
      "source": [
        "df = pd.DataFrame({'Roll No' : [1,2,3,4,5,6], 'Name' : ['Neha', 'shravan', 'Manjunath', 'Saima', 'harshal', 'Sainath']},\n",
        "                 index = [10,20,30,40,50,60])\n",
        "df"
      ],
      "metadata": {
        "colab": {
          "base_uri": "https://localhost:8080/",
          "height": 238
        },
        "id": "cKmncEz7pBVV",
        "outputId": "676fe7c4-452d-4774-bcea-1d8e5b747c28"
      },
      "execution_count": 5,
      "outputs": [
        {
          "output_type": "execute_result",
          "data": {
            "text/plain": [
              "    Roll No       Name\n",
              "10        1       Neha\n",
              "20        2    shravan\n",
              "30        3  Manjunath\n",
              "40        4      Saima\n",
              "50        5    harshal\n",
              "60        6    Sainath"
            ],
            "text/html": [
              "\n",
              "  <div id=\"df-2f7411ce-6e27-4a16-b9c6-ad0fd94a6660\" class=\"colab-df-container\">\n",
              "    <div>\n",
              "<style scoped>\n",
              "    .dataframe tbody tr th:only-of-type {\n",
              "        vertical-align: middle;\n",
              "    }\n",
              "\n",
              "    .dataframe tbody tr th {\n",
              "        vertical-align: top;\n",
              "    }\n",
              "\n",
              "    .dataframe thead th {\n",
              "        text-align: right;\n",
              "    }\n",
              "</style>\n",
              "<table border=\"1\" class=\"dataframe\">\n",
              "  <thead>\n",
              "    <tr style=\"text-align: right;\">\n",
              "      <th></th>\n",
              "      <th>Roll No</th>\n",
              "      <th>Name</th>\n",
              "    </tr>\n",
              "  </thead>\n",
              "  <tbody>\n",
              "    <tr>\n",
              "      <th>10</th>\n",
              "      <td>1</td>\n",
              "      <td>Neha</td>\n",
              "    </tr>\n",
              "    <tr>\n",
              "      <th>20</th>\n",
              "      <td>2</td>\n",
              "      <td>shravan</td>\n",
              "    </tr>\n",
              "    <tr>\n",
              "      <th>30</th>\n",
              "      <td>3</td>\n",
              "      <td>Manjunath</td>\n",
              "    </tr>\n",
              "    <tr>\n",
              "      <th>40</th>\n",
              "      <td>4</td>\n",
              "      <td>Saima</td>\n",
              "    </tr>\n",
              "    <tr>\n",
              "      <th>50</th>\n",
              "      <td>5</td>\n",
              "      <td>harshal</td>\n",
              "    </tr>\n",
              "    <tr>\n",
              "      <th>60</th>\n",
              "      <td>6</td>\n",
              "      <td>Sainath</td>\n",
              "    </tr>\n",
              "  </tbody>\n",
              "</table>\n",
              "</div>\n",
              "    <div class=\"colab-df-buttons\">\n",
              "\n",
              "  <div class=\"colab-df-container\">\n",
              "    <button class=\"colab-df-convert\" onclick=\"convertToInteractive('df-2f7411ce-6e27-4a16-b9c6-ad0fd94a6660')\"\n",
              "            title=\"Convert this dataframe to an interactive table.\"\n",
              "            style=\"display:none;\">\n",
              "\n",
              "  <svg xmlns=\"http://www.w3.org/2000/svg\" height=\"24px\" viewBox=\"0 -960 960 960\">\n",
              "    <path d=\"M120-120v-720h720v720H120Zm60-500h600v-160H180v160Zm220 220h160v-160H400v160Zm0 220h160v-160H400v160ZM180-400h160v-160H180v160Zm440 0h160v-160H620v160ZM180-180h160v-160H180v160Zm440 0h160v-160H620v160Z\"/>\n",
              "  </svg>\n",
              "    </button>\n",
              "\n",
              "  <style>\n",
              "    .colab-df-container {\n",
              "      display:flex;\n",
              "      gap: 12px;\n",
              "    }\n",
              "\n",
              "    .colab-df-convert {\n",
              "      background-color: #E8F0FE;\n",
              "      border: none;\n",
              "      border-radius: 50%;\n",
              "      cursor: pointer;\n",
              "      display: none;\n",
              "      fill: #1967D2;\n",
              "      height: 32px;\n",
              "      padding: 0 0 0 0;\n",
              "      width: 32px;\n",
              "    }\n",
              "\n",
              "    .colab-df-convert:hover {\n",
              "      background-color: #E2EBFA;\n",
              "      box-shadow: 0px 1px 2px rgba(60, 64, 67, 0.3), 0px 1px 3px 1px rgba(60, 64, 67, 0.15);\n",
              "      fill: #174EA6;\n",
              "    }\n",
              "\n",
              "    .colab-df-buttons div {\n",
              "      margin-bottom: 4px;\n",
              "    }\n",
              "\n",
              "    [theme=dark] .colab-df-convert {\n",
              "      background-color: #3B4455;\n",
              "      fill: #D2E3FC;\n",
              "    }\n",
              "\n",
              "    [theme=dark] .colab-df-convert:hover {\n",
              "      background-color: #434B5C;\n",
              "      box-shadow: 0px 1px 3px 1px rgba(0, 0, 0, 0.15);\n",
              "      filter: drop-shadow(0px 1px 2px rgba(0, 0, 0, 0.3));\n",
              "      fill: #FFFFFF;\n",
              "    }\n",
              "  </style>\n",
              "\n",
              "    <script>\n",
              "      const buttonEl =\n",
              "        document.querySelector('#df-2f7411ce-6e27-4a16-b9c6-ad0fd94a6660 button.colab-df-convert');\n",
              "      buttonEl.style.display =\n",
              "        google.colab.kernel.accessAllowed ? 'block' : 'none';\n",
              "\n",
              "      async function convertToInteractive(key) {\n",
              "        const element = document.querySelector('#df-2f7411ce-6e27-4a16-b9c6-ad0fd94a6660');\n",
              "        const dataTable =\n",
              "          await google.colab.kernel.invokeFunction('convertToInteractive',\n",
              "                                                    [key], {});\n",
              "        if (!dataTable) return;\n",
              "\n",
              "        const docLinkHtml = 'Like what you see? Visit the ' +\n",
              "          '<a target=\"_blank\" href=https://colab.research.google.com/notebooks/data_table.ipynb>data table notebook</a>'\n",
              "          + ' to learn more about interactive tables.';\n",
              "        element.innerHTML = '';\n",
              "        dataTable['output_type'] = 'display_data';\n",
              "        await google.colab.output.renderOutput(dataTable, element);\n",
              "        const docLink = document.createElement('div');\n",
              "        docLink.innerHTML = docLinkHtml;\n",
              "        element.appendChild(docLink);\n",
              "      }\n",
              "    </script>\n",
              "  </div>\n",
              "\n",
              "\n",
              "<div id=\"df-2f749802-e74c-4555-85e1-c38ca1ddb13d\">\n",
              "  <button class=\"colab-df-quickchart\" onclick=\"quickchart('df-2f749802-e74c-4555-85e1-c38ca1ddb13d')\"\n",
              "            title=\"Suggest charts\"\n",
              "            style=\"display:none;\">\n",
              "\n",
              "<svg xmlns=\"http://www.w3.org/2000/svg\" height=\"24px\"viewBox=\"0 0 24 24\"\n",
              "     width=\"24px\">\n",
              "    <g>\n",
              "        <path d=\"M19 3H5c-1.1 0-2 .9-2 2v14c0 1.1.9 2 2 2h14c1.1 0 2-.9 2-2V5c0-1.1-.9-2-2-2zM9 17H7v-7h2v7zm4 0h-2V7h2v10zm4 0h-2v-4h2v4z\"/>\n",
              "    </g>\n",
              "</svg>\n",
              "  </button>\n",
              "\n",
              "<style>\n",
              "  .colab-df-quickchart {\n",
              "      --bg-color: #E8F0FE;\n",
              "      --fill-color: #1967D2;\n",
              "      --hover-bg-color: #E2EBFA;\n",
              "      --hover-fill-color: #174EA6;\n",
              "      --disabled-fill-color: #AAA;\n",
              "      --disabled-bg-color: #DDD;\n",
              "  }\n",
              "\n",
              "  [theme=dark] .colab-df-quickchart {\n",
              "      --bg-color: #3B4455;\n",
              "      --fill-color: #D2E3FC;\n",
              "      --hover-bg-color: #434B5C;\n",
              "      --hover-fill-color: #FFFFFF;\n",
              "      --disabled-bg-color: #3B4455;\n",
              "      --disabled-fill-color: #666;\n",
              "  }\n",
              "\n",
              "  .colab-df-quickchart {\n",
              "    background-color: var(--bg-color);\n",
              "    border: none;\n",
              "    border-radius: 50%;\n",
              "    cursor: pointer;\n",
              "    display: none;\n",
              "    fill: var(--fill-color);\n",
              "    height: 32px;\n",
              "    padding: 0;\n",
              "    width: 32px;\n",
              "  }\n",
              "\n",
              "  .colab-df-quickchart:hover {\n",
              "    background-color: var(--hover-bg-color);\n",
              "    box-shadow: 0 1px 2px rgba(60, 64, 67, 0.3), 0 1px 3px 1px rgba(60, 64, 67, 0.15);\n",
              "    fill: var(--button-hover-fill-color);\n",
              "  }\n",
              "\n",
              "  .colab-df-quickchart-complete:disabled,\n",
              "  .colab-df-quickchart-complete:disabled:hover {\n",
              "    background-color: var(--disabled-bg-color);\n",
              "    fill: var(--disabled-fill-color);\n",
              "    box-shadow: none;\n",
              "  }\n",
              "\n",
              "  .colab-df-spinner {\n",
              "    border: 2px solid var(--fill-color);\n",
              "    border-color: transparent;\n",
              "    border-bottom-color: var(--fill-color);\n",
              "    animation:\n",
              "      spin 1s steps(1) infinite;\n",
              "  }\n",
              "\n",
              "  @keyframes spin {\n",
              "    0% {\n",
              "      border-color: transparent;\n",
              "      border-bottom-color: var(--fill-color);\n",
              "      border-left-color: var(--fill-color);\n",
              "    }\n",
              "    20% {\n",
              "      border-color: transparent;\n",
              "      border-left-color: var(--fill-color);\n",
              "      border-top-color: var(--fill-color);\n",
              "    }\n",
              "    30% {\n",
              "      border-color: transparent;\n",
              "      border-left-color: var(--fill-color);\n",
              "      border-top-color: var(--fill-color);\n",
              "      border-right-color: var(--fill-color);\n",
              "    }\n",
              "    40% {\n",
              "      border-color: transparent;\n",
              "      border-right-color: var(--fill-color);\n",
              "      border-top-color: var(--fill-color);\n",
              "    }\n",
              "    60% {\n",
              "      border-color: transparent;\n",
              "      border-right-color: var(--fill-color);\n",
              "    }\n",
              "    80% {\n",
              "      border-color: transparent;\n",
              "      border-right-color: var(--fill-color);\n",
              "      border-bottom-color: var(--fill-color);\n",
              "    }\n",
              "    90% {\n",
              "      border-color: transparent;\n",
              "      border-bottom-color: var(--fill-color);\n",
              "    }\n",
              "  }\n",
              "</style>\n",
              "\n",
              "  <script>\n",
              "    async function quickchart(key) {\n",
              "      const quickchartButtonEl =\n",
              "        document.querySelector('#' + key + ' button');\n",
              "      quickchartButtonEl.disabled = true;  // To prevent multiple clicks.\n",
              "      quickchartButtonEl.classList.add('colab-df-spinner');\n",
              "      try {\n",
              "        const charts = await google.colab.kernel.invokeFunction(\n",
              "            'suggestCharts', [key], {});\n",
              "      } catch (error) {\n",
              "        console.error('Error during call to suggestCharts:', error);\n",
              "      }\n",
              "      quickchartButtonEl.classList.remove('colab-df-spinner');\n",
              "      quickchartButtonEl.classList.add('colab-df-quickchart-complete');\n",
              "    }\n",
              "    (() => {\n",
              "      let quickchartButtonEl =\n",
              "        document.querySelector('#df-2f749802-e74c-4555-85e1-c38ca1ddb13d button');\n",
              "      quickchartButtonEl.style.display =\n",
              "        google.colab.kernel.accessAllowed ? 'block' : 'none';\n",
              "    })();\n",
              "  </script>\n",
              "</div>\n",
              "\n",
              "  <div id=\"id_a757a6f4-176f-42bf-af2a-4bd7a651158b\">\n",
              "    <style>\n",
              "      .colab-df-generate {\n",
              "        background-color: #E8F0FE;\n",
              "        border: none;\n",
              "        border-radius: 50%;\n",
              "        cursor: pointer;\n",
              "        display: none;\n",
              "        fill: #1967D2;\n",
              "        height: 32px;\n",
              "        padding: 0 0 0 0;\n",
              "        width: 32px;\n",
              "      }\n",
              "\n",
              "      .colab-df-generate:hover {\n",
              "        background-color: #E2EBFA;\n",
              "        box-shadow: 0px 1px 2px rgba(60, 64, 67, 0.3), 0px 1px 3px 1px rgba(60, 64, 67, 0.15);\n",
              "        fill: #174EA6;\n",
              "      }\n",
              "\n",
              "      [theme=dark] .colab-df-generate {\n",
              "        background-color: #3B4455;\n",
              "        fill: #D2E3FC;\n",
              "      }\n",
              "\n",
              "      [theme=dark] .colab-df-generate:hover {\n",
              "        background-color: #434B5C;\n",
              "        box-shadow: 0px 1px 3px 1px rgba(0, 0, 0, 0.15);\n",
              "        filter: drop-shadow(0px 1px 2px rgba(0, 0, 0, 0.3));\n",
              "        fill: #FFFFFF;\n",
              "      }\n",
              "    </style>\n",
              "    <button class=\"colab-df-generate\" onclick=\"generateWithVariable('df')\"\n",
              "            title=\"Generate code using this dataframe.\"\n",
              "            style=\"display:none;\">\n",
              "\n",
              "  <svg xmlns=\"http://www.w3.org/2000/svg\" height=\"24px\"viewBox=\"0 0 24 24\"\n",
              "       width=\"24px\">\n",
              "    <path d=\"M7,19H8.4L18.45,9,17,7.55,7,17.6ZM5,21V16.75L18.45,3.32a2,2,0,0,1,2.83,0l1.4,1.43a1.91,1.91,0,0,1,.58,1.4,1.91,1.91,0,0,1-.58,1.4L9.25,21ZM18.45,9,17,7.55Zm-12,3A5.31,5.31,0,0,0,4.9,8.1,5.31,5.31,0,0,0,1,6.5,5.31,5.31,0,0,0,4.9,4.9,5.31,5.31,0,0,0,6.5,1,5.31,5.31,0,0,0,8.1,4.9,5.31,5.31,0,0,0,12,6.5,5.46,5.46,0,0,0,6.5,12Z\"/>\n",
              "  </svg>\n",
              "    </button>\n",
              "    <script>\n",
              "      (() => {\n",
              "      const buttonEl =\n",
              "        document.querySelector('#id_a757a6f4-176f-42bf-af2a-4bd7a651158b button.colab-df-generate');\n",
              "      buttonEl.style.display =\n",
              "        google.colab.kernel.accessAllowed ? 'block' : 'none';\n",
              "\n",
              "      buttonEl.onclick = () => {\n",
              "        google.colab.notebook.generateWithVariable('df');\n",
              "      }\n",
              "      })();\n",
              "    </script>\n",
              "  </div>\n",
              "\n",
              "    </div>\n",
              "  </div>\n"
            ],
            "application/vnd.google.colaboratory.intrinsic+json": {
              "type": "dataframe",
              "variable_name": "df",
              "summary": "{\n  \"name\": \"df\",\n  \"rows\": 6,\n  \"fields\": [\n    {\n      \"column\": \"Roll No\",\n      \"properties\": {\n        \"dtype\": \"number\",\n        \"std\": 1,\n        \"min\": 1,\n        \"max\": 6,\n        \"num_unique_values\": 6,\n        \"samples\": [\n          1,\n          2,\n          6\n        ],\n        \"semantic_type\": \"\",\n        \"description\": \"\"\n      }\n    },\n    {\n      \"column\": \"Name\",\n      \"properties\": {\n        \"dtype\": \"string\",\n        \"num_unique_values\": 6,\n        \"samples\": [\n          \"Neha\",\n          \"shravan\",\n          \"Sainath\"\n        ],\n        \"semantic_type\": \"\",\n        \"description\": \"\"\n      }\n    }\n  ]\n}"
            }
          },
          "metadata": {},
          "execution_count": 5
        }
      ]
    },
    {
      "cell_type": "code",
      "source": [
        "#Reading the data"
      ],
      "metadata": {
        "id": "m08JuBedpYpK"
      },
      "execution_count": 6,
      "outputs": []
    },
    {
      "cell_type": "code",
      "source": [],
      "metadata": {
        "id": "vwY0lrY5xbcg"
      },
      "execution_count": 20,
      "outputs": []
    },
    {
      "cell_type": "markdown",
      "source": [
        "###Day6\n",
        "If elif and elase conditions\n"
      ],
      "metadata": {
        "id": "JO7Rv0fFLaCu"
      }
    },
    {
      "cell_type": "code",
      "source": [
        "a=5\n",
        "b=10\n",
        "c=15\n",
        "if(a>b and b>c):\n",
        "  print (\"a is greter\")\n",
        "elif b>c:\n",
        "  print(\"b is greater\")\n",
        "else:\n",
        "  print(\"Hello\")\n"
      ],
      "metadata": {
        "id": "Q_lJhJ-YLM0P",
        "outputId": "6b6dd043-5567-49d8-bd3a-16abbe113370",
        "colab": {
          "base_uri": "https://localhost:8080/"
        }
      },
      "execution_count": null,
      "outputs": [
        {
          "output_type": "stream",
          "name": "stdout",
          "text": [
            "Hello\n"
          ]
        }
      ]
    },
    {
      "cell_type": "markdown",
      "source": [
        "Write program for week day 1st day is sunday\n"
      ],
      "metadata": {
        "id": "-wq9awxGLN8X"
      }
    },
    {
      "cell_type": "code",
      "source": [
        "day = int(input(\"Enter Day Number = \"))\n",
        "if day==1:\n",
        "  print (\"Sun\")\n",
        "elif day==2:\n",
        "  print(\"Mon\")\n",
        "elif day==3:\n",
        "  print(\"Tue\")\n",
        "elif day==4:\n",
        "  print(\"Wend\")\n",
        "elif day==5:\n",
        "  print(\"Thur\")\n",
        "elif day==6:\n",
        "  print(\"Fri\")\n",
        "else:\n",
        "  print(\"Sat\")\n"
      ],
      "metadata": {
        "id": "BXQ57zl-RlFb",
        "outputId": "b54be66b-e917-43da-9517-e9776720798a",
        "colab": {
          "base_uri": "https://localhost:8080/"
        }
      },
      "execution_count": null,
      "outputs": [
        {
          "output_type": "stream",
          "name": "stdout",
          "text": [
            "Enter Day Number = 3\n",
            "Tue\n"
          ]
        }
      ]
    },
    {
      "cell_type": "code",
      "source": [
        "n = 1\n",
        "while n<=5:\n",
        "  print(n)\n",
        "  n=n+1\n",
        "print(\"end\")\n"
      ],
      "metadata": {
        "id": "LYiFAEvPPc8E",
        "outputId": "97a0ccb5-53c0-416d-ab60-5b9bae032f16",
        "colab": {
          "base_uri": "https://localhost:8080/"
        }
      },
      "execution_count": null,
      "outputs": [
        {
          "output_type": "stream",
          "name": "stdout",
          "text": [
            "1\n",
            "2\n",
            "3\n",
            "4\n",
            "5\n",
            "end\n"
          ]
        }
      ]
    },
    {
      "cell_type": "markdown",
      "source": [
        "##Functions"
      ],
      "metadata": {
        "id": "XGLRZZb4QA8f"
      }
    },
    {
      "cell_type": "markdown",
      "source": [
        "Function is a block of code which is execute when it is call\n",
        "You can pass data, known as parameter in to a function\n",
        "function can return data as a result"
      ],
      "metadata": {
        "id": "94hSD9dzQFvY"
      }
    },
    {
      "cell_type": "markdown",
      "source": [
        "Create Function for Area of square\n",
        "Create Function for Area of Reactangle\n",
        "Create Function for Area of Triangle\n",
        "Create Function for Area of Circle"
      ],
      "metadata": {
        "id": "u1FY8vi-R7ai"
      }
    },
    {
      "cell_type": "code",
      "source": [
        "def Area_of_Reactangle(l,b):\n",
        "  area = l*b\n",
        "  return area"
      ],
      "metadata": {
        "id": "uywl-NRVQRFt"
      },
      "execution_count": null,
      "outputs": []
    },
    {
      "cell_type": "code",
      "source": [
        "def Area_of_Square(l):\n",
        "  return l*4"
      ],
      "metadata": {
        "id": "ftGX11ooSo-z"
      },
      "execution_count": null,
      "outputs": []
    },
    {
      "cell_type": "code",
      "source": [
        "import math\n",
        "def Area_of_Circle(r):\n",
        "  area = math.pi*r\n",
        "  return area"
      ],
      "metadata": {
        "id": "vwcku4FvSqPg"
      },
      "execution_count": null,
      "outputs": []
    },
    {
      "cell_type": "code",
      "source": [
        "def Area_of_Triangle(h,b):\n",
        "  area = (h*b)/2\n",
        "  return area"
      ],
      "metadata": {
        "id": "HtSRxzDmSprJ"
      },
      "execution_count": null,
      "outputs": []
    },
    {
      "cell_type": "code",
      "source": [
        "print('Area of square = ' , Area_of_Square(int(input('Enter length = '))))\n",
        "print('Area_of_Circle = ' , Area_of_Circle(int(input('Enter radious = '))))\n",
        "print('Area_of_Reactangle = ', Area_of_Reactangle(int(input('Enter l = ')),int(input('Enter b = '))))\n",
        "print('Area_of_Triangle = ' ,Area_of_Triangle(int(input('Enter h = ')),int(input('Enter b = '))))\n"
      ],
      "metadata": {
        "id": "VcPCMKg0Te7T",
        "outputId": "0b5c88ed-f0c3-4587-8f12-c6be03d83606",
        "colab": {
          "base_uri": "https://localhost:8080/"
        }
      },
      "execution_count": null,
      "outputs": [
        {
          "output_type": "stream",
          "name": "stdout",
          "text": [
            "Enter length = 5\n",
            "Area of square =  20\n",
            "Enter radious = 5\n",
            "Area_of_Circle =  15.707963267948966\n",
            "Enter l = 7\n",
            "Enter b = 5\n",
            "Area_of_Reactangle =  35\n",
            "Enter h = 5\n",
            "Enter b = 5\n",
            "Area_of_Triangle =  12.5\n"
          ]
        }
      ]
    },
    {
      "cell_type": "markdown",
      "source": [
        "###Day5"
      ],
      "metadata": {
        "id": "Uy9Ctio41oPy"
      }
    },
    {
      "cell_type": "markdown",
      "source": [
        "##Dictionary"
      ],
      "metadata": {
        "id": "k0uywaf0H8yO"
      }
    },
    {
      "cell_type": "code",
      "source": [
        "India = {'KA':'Bangalore','MH':'Mumbai','AP':' Amaravati','Assam':'Dispur',\n",
        "'Bihar': 'Patna'}\n",
        "\n",
        "print(India)\n",
        "print(India.keys())\n",
        "print(India.values())"
      ],
      "metadata": {
        "id": "gtXbLZJTGZFL",
        "outputId": "161419df-6b76-43f1-9891-a40fe7628052",
        "colab": {
          "base_uri": "https://localhost:8080/"
        }
      },
      "execution_count": null,
      "outputs": [
        {
          "output_type": "stream",
          "name": "stdout",
          "text": [
            "{'KA': 'Bangalore', 'MH': 'Mumbai', 'AP': ' Amaravati', 'Assam': 'Dispur', 'Bihar': 'Patna'}\n",
            "dict_keys(['KA', 'MH', 'AP', 'Assam', 'Bihar'])\n",
            "dict_values(['Bangalore', 'Mumbai', ' Amaravati', 'Dispur', 'Patna'])\n"
          ]
        }
      ]
    },
    {
      "cell_type": "markdown",
      "source": [
        "###For Loop\n",
        "loops are used to iterating over sequence"
      ],
      "metadata": {
        "id": "11X2Cu00IDEZ"
      }
    },
    {
      "cell_type": "code",
      "source": [
        "list = ['a','b','c','d','e']\n",
        "for i in list:\n",
        "  print(i)"
      ],
      "metadata": {
        "id": "NhPIEhtEJRPW",
        "outputId": "17c68ad3-88bf-4ac7-e0bd-83581c011866",
        "colab": {
          "base_uri": "https://localhost:8080/"
        }
      },
      "execution_count": null,
      "outputs": [
        {
          "output_type": "stream",
          "name": "stdout",
          "text": [
            "a\n",
            "b\n",
            "c\n",
            "d\n",
            "e\n"
          ]
        }
      ]
    },
    {
      "cell_type": "code",
      "source": [
        "for i in range(10):\n",
        "  print(i)"
      ],
      "metadata": {
        "id": "dvwo8OaoxRDz",
        "outputId": "1a69ea60-a41d-4ec7-8464-826c284f8234",
        "colab": {
          "base_uri": "https://localhost:8080/"
        }
      },
      "execution_count": null,
      "outputs": [
        {
          "output_type": "stream",
          "name": "stdout",
          "text": [
            "0\n",
            "1\n",
            "2\n",
            "3\n",
            "4\n",
            "5\n",
            "6\n",
            "7\n",
            "8\n",
            "9\n"
          ]
        }
      ]
    },
    {
      "cell_type": "markdown",
      "source": [
        "Write a program to print 1 to 10 even numbers"
      ],
      "metadata": {
        "id": "h-zKhbrPxaP9"
      }
    },
    {
      "cell_type": "code",
      "source": [
        "for i in range(1,10+1):\n",
        "  if(i%2==0):\n",
        "    print(i)"
      ],
      "metadata": {
        "id": "G65TCUbxxj9K",
        "outputId": "4b70308a-ffac-4770-cd7f-6f9c31353e78",
        "colab": {
          "base_uri": "https://localhost:8080/"
        }
      },
      "execution_count": null,
      "outputs": [
        {
          "output_type": "stream",
          "name": "stdout",
          "text": [
            "2\n",
            "4\n",
            "6\n",
            "8\n",
            "10\n"
          ]
        }
      ]
    },
    {
      "cell_type": "code",
      "source": [
        "for i in range(0,10,2):\n",
        "  print(i)"
      ],
      "metadata": {
        "id": "zU_qLxbV9_mn",
        "outputId": "0491d7fa-8476-4fab-986a-b522e7345c51",
        "colab": {
          "base_uri": "https://localhost:8080/"
        }
      },
      "execution_count": null,
      "outputs": [
        {
          "output_type": "stream",
          "name": "stdout",
          "text": [
            "0\n",
            "2\n",
            "4\n",
            "6\n",
            "8\n"
          ]
        }
      ]
    },
    {
      "cell_type": "markdown",
      "source": [
        "Write a program for patter\n",
        " *\n",
        " *\n",
        " *\n",
        " *\n",
        " *\n",
        " *\n",
        " *\n",
        "\n"
      ],
      "metadata": {
        "id": "q2MoKzGdyMLb"
      }
    },
    {
      "cell_type": "code",
      "source": [
        "for i in range(7):\n",
        "  print('* ')"
      ],
      "metadata": {
        "id": "gJZaPlNSyKFw",
        "outputId": "dab679ad-12c4-4c1b-a490-d9f857a81c9f",
        "colab": {
          "base_uri": "https://localhost:8080/"
        }
      },
      "execution_count": null,
      "outputs": [
        {
          "output_type": "stream",
          "name": "stdout",
          "text": [
            "* \n",
            "* \n",
            "* \n",
            "* \n",
            "* \n",
            "* \n",
            "* \n"
          ]
        }
      ]
    },
    {
      "cell_type": "code",
      "source": [
        "list = ['a','b','c','d','e','f','g']\n",
        "for i in list:\n",
        "  if i=='c':\n",
        "    break\n",
        "  print(i)"
      ],
      "metadata": {
        "id": "nQ7xGCOi_61b",
        "outputId": "2d1e9a7a-2f0e-4586-9fbd-26ea64af4762",
        "colab": {
          "base_uri": "https://localhost:8080/"
        }
      },
      "execution_count": null,
      "outputs": [
        {
          "output_type": "stream",
          "name": "stdout",
          "text": [
            "a\n",
            "b\n"
          ]
        }
      ]
    },
    {
      "cell_type": "code",
      "source": [
        "list = ['a','b','c','d','e','f','g']\n",
        "for i in list:\n",
        "  if i=='c':\n",
        "    continue\n",
        "  print(i)"
      ],
      "metadata": {
        "id": "gOYvN-hkAiRu",
        "outputId": "677a9a10-48c4-4b91-d0b0-4c1edc326bfa",
        "colab": {
          "base_uri": "https://localhost:8080/"
        }
      },
      "execution_count": null,
      "outputs": [
        {
          "output_type": "stream",
          "name": "stdout",
          "text": [
            "a\n",
            "b\n",
            "d\n",
            "e\n",
            "f\n",
            "g\n"
          ]
        }
      ]
    },
    {
      "cell_type": "markdown",
      "source": [
        "###Day4"
      ],
      "metadata": {
        "id": "2ML_4fhh8oME"
      }
    },
    {
      "cell_type": "code",
      "source": [
        "list1 = [1,4,3,6,5,4,7,8]\n",
        "print(list1)\n",
        "list1.sort()\n",
        "print(list1)"
      ],
      "metadata": {
        "colab": {
          "base_uri": "https://localhost:8080/"
        },
        "id": "1uMOH_Pt8s-n",
        "outputId": "dcf33a3e-7a8d-4efd-d391-36a0b518d360"
      },
      "execution_count": null,
      "outputs": [
        {
          "output_type": "stream",
          "name": "stdout",
          "text": [
            "[1, 4, 3, 6, 5, 4, 7, 8]\n",
            "[1, 3, 4, 4, 5, 6, 7, 8]\n"
          ]
        }
      ]
    },
    {
      "cell_type": "code",
      "source": [
        "list1 = [1,4,3,6,5,4,7,8]\n",
        "print(list1)\n",
        "list1.sort(reverse=True)\n",
        "print(list1)"
      ],
      "metadata": {
        "colab": {
          "base_uri": "https://localhost:8080/"
        },
        "id": "_xzHGeHe9lW-",
        "outputId": "cdf3a673-1a67-4646-e84a-bfaa5d9ce9d2"
      },
      "execution_count": null,
      "outputs": [
        {
          "output_type": "stream",
          "name": "stdout",
          "text": [
            "[1, 4, 3, 6, 5, 4, 7, 8]\n",
            "[8, 7, 6, 5, 4, 4, 3, 1]\n"
          ]
        }
      ]
    },
    {
      "cell_type": "code",
      "source": [
        "list1 = [1,4,3,6,5,4,7,8]\n",
        "print(list1)\n",
        "list1.pop()\n",
        "print(list1)"
      ],
      "metadata": {
        "colab": {
          "base_uri": "https://localhost:8080/"
        },
        "id": "wAV0dQZ09uXO",
        "outputId": "cad42966-434d-41cc-e0fd-f63d08b606e7"
      },
      "execution_count": null,
      "outputs": [
        {
          "output_type": "stream",
          "name": "stdout",
          "text": [
            "[1, 4, 3, 6, 5, 4, 7, 8]\n",
            "[1, 4, 3, 6, 5, 4, 7]\n"
          ]
        }
      ]
    },
    {
      "cell_type": "code",
      "source": [
        "list1 = [1,4,3,6,5,4,7,8]\n",
        "print(list1)\n",
        "list1.pop(4)\n",
        "print(list1)"
      ],
      "metadata": {
        "colab": {
          "base_uri": "https://localhost:8080/"
        },
        "id": "ymxjRrJX933h",
        "outputId": "32183b22-8d73-422d-e47e-413278590faa"
      },
      "execution_count": null,
      "outputs": [
        {
          "output_type": "stream",
          "name": "stdout",
          "text": [
            "[1, 4, 3, 6, 5, 4, 7, 8]\n",
            "[1, 4, 3, 6, 4, 7, 8]\n"
          ]
        }
      ]
    },
    {
      "cell_type": "code",
      "source": [
        "list1 = [1,4,3,6,5,4,7,8]\n",
        "print(list1)\n",
        "list1.remove(3)\n",
        "print(list1)"
      ],
      "metadata": {
        "colab": {
          "base_uri": "https://localhost:8080/"
        },
        "id": "1ljBIvNO99Bg",
        "outputId": "2b2b4e42-3fb8-4470-b04b-c66e9c1adfec"
      },
      "execution_count": null,
      "outputs": [
        {
          "output_type": "stream",
          "name": "stdout",
          "text": [
            "[1, 4, 3, 6, 5, 4, 7, 8]\n",
            "[1, 4, 6, 5, 4, 7, 8]\n"
          ]
        }
      ]
    },
    {
      "cell_type": "code",
      "source": [
        "list1 = [1,4,3,6,5,4,7,8]\n",
        "print(list1)\n",
        "del list1[1]\n",
        "print(list1)"
      ],
      "metadata": {
        "colab": {
          "base_uri": "https://localhost:8080/"
        },
        "id": "QYET2mKR-TIe",
        "outputId": "d8fad354-0c35-45c6-d620-541c681cf5dd"
      },
      "execution_count": null,
      "outputs": [
        {
          "output_type": "stream",
          "name": "stdout",
          "text": [
            "[1, 4, 3, 6, 5, 4, 7, 8]\n",
            "[1, 3, 6, 5, 4, 7, 8]\n"
          ]
        }
      ]
    },
    {
      "cell_type": "markdown",
      "source": [
        "###Tuple\n",
        " ordered and unchangeable\n"
      ],
      "metadata": {
        "id": "WWmyCc0m_JrT"
      }
    },
    {
      "cell_type": "code",
      "source": [
        "tpl = (19,74,938,45364,38462,98,6,3847.364)\n",
        "tpl"
      ],
      "metadata": {
        "colab": {
          "base_uri": "https://localhost:8080/"
        },
        "id": "SG_bsqXsAiAp",
        "outputId": "6d608427-4dce-4bf7-be9a-ac52e84d12c5"
      },
      "execution_count": null,
      "outputs": [
        {
          "output_type": "execute_result",
          "data": {
            "text/plain": [
              "(19, 74, 938, 45364, 38462, 98, 6, 3847.364)"
            ]
          },
          "metadata": {},
          "execution_count": 1
        }
      ]
    },
    {
      "cell_type": "code",
      "source": [
        "len(tpl)"
      ],
      "metadata": {
        "colab": {
          "base_uri": "https://localhost:8080/"
        },
        "id": "CdoaZ-asyymJ",
        "outputId": "38c01f0e-fae9-4af5-cd11-09a091a75f72"
      },
      "execution_count": null,
      "outputs": [
        {
          "output_type": "execute_result",
          "data": {
            "text/plain": [
              "8"
            ]
          },
          "metadata": {},
          "execution_count": 5
        }
      ]
    },
    {
      "cell_type": "code",
      "source": [
        "tpl[3]"
      ],
      "metadata": {
        "colab": {
          "base_uri": "https://localhost:8080/"
        },
        "id": "MZ8iePzDzUoD",
        "outputId": "11d0b8da-8581-4771-e203-cab74f6d229e"
      },
      "execution_count": null,
      "outputs": [
        {
          "output_type": "execute_result",
          "data": {
            "text/plain": [
              "45364"
            ]
          },
          "metadata": {},
          "execution_count": 6
        }
      ]
    },
    {
      "cell_type": "code",
      "source": [
        "if 19 in tpl:\n",
        "  print(\"yes\")"
      ],
      "metadata": {
        "colab": {
          "base_uri": "https://localhost:8080/"
        },
        "id": "t1Xy--lz0EOG",
        "outputId": "caa4ebe1-9088-4f4a-be01-f3bf1105ad22"
      },
      "execution_count": null,
      "outputs": [
        {
          "output_type": "stream",
          "name": "stdout",
          "text": [
            "yes\n"
          ]
        }
      ]
    },
    {
      "cell_type": "code",
      "source": [
        "tpl = (19,74,938,45364,38462,98,6,3847,364,1,5,5,4,3,3,4,6,6)\n",
        "tpl"
      ],
      "metadata": {
        "colab": {
          "base_uri": "https://localhost:8080/"
        },
        "id": "GlkAA0cU0Uzz",
        "outputId": "9f6829cb-d912-42f8-c950-c6c6a486991b"
      },
      "execution_count": null,
      "outputs": [
        {
          "output_type": "execute_result",
          "data": {
            "text/plain": [
              "(19, 74, 938, 45364, 38462, 98, 6, 3847, 364, 1, 5, 5, 4, 3, 3, 4, 6, 6)"
            ]
          },
          "metadata": {},
          "execution_count": 9
        }
      ]
    },
    {
      "cell_type": "code",
      "source": [
        "tpl.count(5)"
      ],
      "metadata": {
        "colab": {
          "base_uri": "https://localhost:8080/"
        },
        "id": "Ott0by2F1GSf",
        "outputId": "3789aeb0-48bc-4579-cc38-53006d72bfbf"
      },
      "execution_count": null,
      "outputs": [
        {
          "output_type": "execute_result",
          "data": {
            "text/plain": [
              "2"
            ]
          },
          "metadata": {},
          "execution_count": 10
        }
      ]
    },
    {
      "cell_type": "markdown",
      "source": [
        "##Set\n",
        "unordered and not allow duplicate elements\n"
      ],
      "metadata": {
        "id": "X3Y1A0CO1eJA"
      }
    },
    {
      "cell_type": "code",
      "source": [
        "set = {'Ramesh', 'Suresh','Ramesh'}\n",
        "print(set)"
      ],
      "metadata": {
        "colab": {
          "base_uri": "https://localhost:8080/"
        },
        "id": "Uy_HFuHs3UbO",
        "outputId": "b232101c-d501-4b42-8722-687b9745c6ed"
      },
      "execution_count": null,
      "outputs": [
        {
          "output_type": "stream",
          "name": "stdout",
          "text": [
            "{'Suresh', 'Ramesh'}\n"
          ]
        }
      ]
    },
    {
      "cell_type": "code",
      "source": [
        "set1 = {'Ramesh', 'Suresh','Ramesh' , 'Harsh', 'Ramu', 'Ganu'}\n",
        "set2= {'Ramesh', 'Suresh','Ramesh'}\n",
        "\n",
        "set1.update(set2)\n",
        "print(set1)"
      ],
      "metadata": {
        "colab": {
          "base_uri": "https://localhost:8080/"
        },
        "id": "SwD0RoAA3gXT",
        "outputId": "1510cf92-5977-4458-c355-0a394b922d0f"
      },
      "execution_count": null,
      "outputs": [
        {
          "output_type": "stream",
          "name": "stdout",
          "text": [
            "{'Suresh', 'Ramesh', 'Harsh', 'Ramu', 'Ganu'}\n"
          ]
        }
      ]
    },
    {
      "cell_type": "markdown",
      "source": [],
      "metadata": {
        "id": "BhHVoTds_OGZ"
      }
    },
    {
      "cell_type": "markdown",
      "source": [
        "\n",
        "###Day3\n",
        "\n",
        "Data type\n",
        "1. Integer\n",
        "2. string\n",
        "3. boolen\n",
        "4. commplex\n",
        "5. float"
      ],
      "metadata": {
        "id": "aqcs84w7wW1k"
      }
    },
    {
      "cell_type": "code",
      "source": [
        "a = 5\n",
        "b = 5\n",
        "print (a+b)"
      ],
      "metadata": {
        "id": "OtoW3xtsxCSZ",
        "outputId": "34c1b8ba-a935-455c-cbb5-7d0d70ed9c31",
        "colab": {
          "base_uri": "https://localhost:8080/"
        }
      },
      "execution_count": null,
      "outputs": [
        {
          "output_type": "stream",
          "name": "stdout",
          "text": [
            "10\n"
          ]
        }
      ]
    },
    {
      "cell_type": "code",
      "source": [
        "type(a)\n",
        "type(b)"
      ],
      "metadata": {
        "id": "oGX09S9ixNej",
        "outputId": "a8a58667-9617-44b9-f1d2-a4332be3ad28",
        "colab": {
          "base_uri": "https://localhost:8080/"
        }
      },
      "execution_count": null,
      "outputs": [
        {
          "output_type": "execute_result",
          "data": {
            "text/plain": [
              "int"
            ]
          },
          "metadata": {},
          "execution_count": 2
        }
      ]
    },
    {
      "cell_type": "code",
      "source": [
        "a = \"Python\"\n",
        "type(a)"
      ],
      "metadata": {
        "id": "CPl24tj9xS05",
        "outputId": "2f33da19-1a63-44c3-eb37-a7b60a2e3b6d",
        "colab": {
          "base_uri": "https://localhost:8080/"
        }
      },
      "execution_count": null,
      "outputs": [
        {
          "output_type": "execute_result",
          "data": {
            "text/plain": [
              "str"
            ]
          },
          "metadata": {},
          "execution_count": 3
        }
      ]
    },
    {
      "cell_type": "code",
      "source": [
        "a= 5.5\n",
        "type(a)\n",
        "\n"
      ],
      "metadata": {
        "id": "r071PBCQxYw4",
        "outputId": "20444b5b-11cd-4cbf-afc2-8842e82d188e",
        "colab": {
          "base_uri": "https://localhost:8080/"
        }
      },
      "execution_count": null,
      "outputs": [
        {
          "output_type": "execute_result",
          "data": {
            "text/plain": [
              "float"
            ]
          },
          "metadata": {},
          "execution_count": 8
        }
      ]
    },
    {
      "cell_type": "code",
      "source": [
        "b= 5j+5\n",
        "type(b)\n"
      ],
      "metadata": {
        "id": "8h_fxrt3yCNG",
        "outputId": "55a73be1-39c5-42fa-f838-663a7ad19e05",
        "colab": {
          "base_uri": "https://localhost:8080/"
        }
      },
      "execution_count": null,
      "outputs": [
        {
          "output_type": "execute_result",
          "data": {
            "text/plain": [
              "complex"
            ]
          },
          "metadata": {},
          "execution_count": 9
        }
      ]
    },
    {
      "cell_type": "markdown",
      "source": [
        "Data Structure\n",
        "1. List\n",
        "2. Dictionry\n",
        "3. Flot\n",
        "4. Set"
      ],
      "metadata": {
        "id": "aCN_saxXB33i"
      }
    },
    {
      "cell_type": "markdown",
      "source": [
        "###List\n"
      ],
      "metadata": {
        "id": "T6ggBEoYCNOp"
      }
    },
    {
      "cell_type": "code",
      "source": [
        "list = [1,2,3,4,5]\n",
        "print(list)"
      ],
      "metadata": {
        "id": "3QeOmtJQCeY5",
        "outputId": "f6c5c59e-9f8b-4c25-d045-f8c7f3a18c3a",
        "colab": {
          "base_uri": "https://localhost:8080/"
        }
      },
      "execution_count": null,
      "outputs": [
        {
          "output_type": "stream",
          "name": "stdout",
          "text": [
            "[1, 2, 3, 4, 5]\n"
          ]
        }
      ]
    },
    {
      "cell_type": "code",
      "source": [
        "type(list)"
      ],
      "metadata": {
        "id": "W5c3clEgCc-i",
        "outputId": "4c5b6fe0-5b70-4bd0-9a4b-8bd4a3ab97a6",
        "colab": {
          "base_uri": "https://localhost:8080/"
        }
      },
      "execution_count": null,
      "outputs": [
        {
          "output_type": "execute_result",
          "data": {
            "text/plain": [
              "list"
            ]
          },
          "metadata": {},
          "execution_count": 11
        }
      ]
    },
    {
      "cell_type": "code",
      "source": [
        "list1  = ['Python', 5.5, 33, 3j+6]\n",
        "print(list1)\n",
        "print(type(list1))\n",
        "print(list1[0])\n"
      ],
      "metadata": {
        "id": "GxPM-o5-CxU1",
        "outputId": "ca533b5f-75fc-4863-cff8-315e7851a03e",
        "colab": {
          "base_uri": "https://localhost:8080/"
        }
      },
      "execution_count": null,
      "outputs": [
        {
          "output_type": "stream",
          "name": "stdout",
          "text": [
            "['Python', 5.5, 33, (6+3j)]\n",
            "<class 'list'>\n",
            "Python\n"
          ]
        }
      ]
    },
    {
      "cell_type": "code",
      "source": [
        "list2 = ['Zero','one','Two','Three','Four','Five','Six','Seven','Eight','Nine','Ten']\n",
        "print(list2)\n",
        "print(list2[2:4])\n",
        "if 'Three'in list2:\n",
        "  print(\"Yes\");"
      ],
      "metadata": {
        "id": "_srzy8oyFFU7",
        "outputId": "02faece1-d475-4eb7-9dba-66dcd50a2609",
        "colab": {
          "base_uri": "https://localhost:8080/"
        }
      },
      "execution_count": null,
      "outputs": [
        {
          "output_type": "stream",
          "name": "stdout",
          "text": [
            "['Zero', 'one', 'Two', 'Three', 'Four', 'Five', 'Six', 'Seven', 'Eight', 'Nine', 'Ten']\n",
            "['Two', 'Three']\n",
            "Yes\n"
          ]
        }
      ]
    },
    {
      "cell_type": "markdown",
      "source": [
        "###Day2"
      ],
      "metadata": {
        "id": "YCvXhTxun7x2"
      }
    },
    {
      "cell_type": "markdown",
      "source": [],
      "metadata": {
        "id": "O8DGNWDlCGKz"
      }
    },
    {
      "cell_type": "code",
      "source": [
        "!git clone https://github.com/ShravanJadhav/DataScience_Practice.git"
      ],
      "metadata": {
        "colab": {
          "base_uri": "https://localhost:8080/"
        },
        "id": "gwYuGss4rXZR",
        "outputId": "1f16436a-9085-4d0e-a6d5-71d87d724df0"
      },
      "execution_count": null,
      "outputs": [
        {
          "output_type": "stream",
          "name": "stdout",
          "text": [
            "fatal: destination path 'DataScience_Practice' already exists and is not an empty directory.\n"
          ]
        }
      ]
    },
    {
      "cell_type": "code",
      "source": [
        "print(\"Hello Python\")"
      ],
      "metadata": {
        "colab": {
          "base_uri": "https://localhost:8080/"
        },
        "id": "s36DcxM3sVQV",
        "outputId": "82d97699-621d-4824-df57-64b8ebda6656"
      },
      "execution_count": null,
      "outputs": [
        {
          "output_type": "stream",
          "name": "stdout",
          "text": [
            "Hello Python\n"
          ]
        }
      ]
    },
    {
      "cell_type": "code",
      "source": [],
      "metadata": {
        "id": "Dli9QOp0zx0S"
      },
      "execution_count": null,
      "outputs": []
    },
    {
      "cell_type": "markdown",
      "source": [
        "###Day1\n",
        "Introduction and basics of python"
      ],
      "metadata": {
        "id": "TzX4aWzRL8Lq"
      }
    },
    {
      "cell_type": "code",
      "source": [
        "a=5\n",
        "b=4\n",
        "print(a+b)"
      ],
      "metadata": {
        "id": "SA7PqMVAMESK",
        "outputId": "e042cb03-78a6-4f3a-9837-a2440d053600",
        "colab": {
          "base_uri": "https://localhost:8080/"
        }
      },
      "execution_count": null,
      "outputs": [
        {
          "output_type": "stream",
          "name": "stdout",
          "text": [
            "9\n"
          ]
        }
      ]
    }
  ]
}