{
  "nbformat": 4,
  "nbformat_minor": 0,
  "metadata": {
    "colab": {
      "provenance": [],
      "authorship_tag": "ABX9TyNlOU+vd3pPmNWrkY+avUS5",
      "include_colab_link": true
    },
    "kernelspec": {
      "name": "python3",
      "display_name": "Python 3"
    },
    "language_info": {
      "name": "python"
    }
  },
  "cells": [
    {
      "cell_type": "markdown",
      "metadata": {
        "id": "view-in-github",
        "colab_type": "text"
      },
      "source": [
        "<a href=\"https://colab.research.google.com/github/ShravanJadhav/DataScience_Practice/blob/main/PythonPracticeQuestions.ipynb\" target=\"_parent\"><img src=\"https://colab.research.google.com/assets/colab-badge.svg\" alt=\"Open In Colab\"/></a>"
      ]
    },
    {
      "cell_type": "markdown",
      "source": [
        "Q1: Given two arrays, write a python function to return the intersection of the two? For example, X = [1,5,9,0] and Y = [3,0,2,9] it should return [9,0]"
      ],
      "metadata": {
        "id": "bGMN10aDJeCc"
      }
    },
    {
      "cell_type": "code",
      "execution_count": 7,
      "metadata": {
        "colab": {
          "base_uri": "https://localhost:8080/"
        },
        "id": "uS8TtottJY4E",
        "outputId": "07fe0065-0ded-4e76-9f36-962ee5979f7b"
      },
      "outputs": [
        {
          "output_type": "execute_result",
          "data": {
            "text/plain": [
              "{0, 9}"
            ]
          },
          "metadata": {},
          "execution_count": 7
        }
      ],
      "source": [
        "X = [1,5,9,0]\n",
        "Y = [3,0,2,9]\n",
        "\n",
        "set(X).intersection((set(Y)))"
      ]
    },
    {
      "cell_type": "markdown",
      "source": [
        "Q2: Given an array, find all the duplicates in this array? For example: input: [1,2,3,1,3,6,5] output: [1,3]"
      ],
      "metadata": {
        "id": "cV4GqSsZK6T-"
      }
    },
    {
      "cell_type": "code",
      "source": [
        "input = [1,2,3,1,3,6,5]\n",
        "duplicate = set()\n",
        "seen = set()\n",
        "for i in input:\n",
        "  if i in seen:\n",
        "    duplicate.add(i)\n",
        "  else:\n",
        "    seen.add(i)\n",
        "print(list(duplicate))"
      ],
      "metadata": {
        "colab": {
          "base_uri": "https://localhost:8080/"
        },
        "id": "A62tAwxtKI_H",
        "outputId": "b464d7a6-5f0a-49f5-ec40-95e96b8728d6"
      },
      "execution_count": 23,
      "outputs": [
        {
          "output_type": "stream",
          "name": "stdout",
          "text": [
            "[1, 3]\n"
          ]
        }
      ]
    },
    {
      "cell_type": "markdown",
      "source": [
        "Q3: Given an integer array, return the maximum product of any three numbers in the array?"
      ],
      "metadata": {
        "id": "DJWW-oFUPeTr"
      }
    },
    {
      "cell_type": "code",
      "source": [
        "test = [1,2,3,4,5,6,7,8,9]\n",
        "\n",
        "test.sort(reverse=True)\n",
        "\n",
        "print(test[0],test[1],test[2])"
      ],
      "metadata": {
        "colab": {
          "base_uri": "https://localhost:8080/"
        },
        "id": "rnQ9eCtUPBdn",
        "outputId": "2b0bb075-39df-45a8-a061-dbfc89ef6b04"
      },
      "execution_count": 27,
      "outputs": [
        {
          "output_type": "stream",
          "name": "stdout",
          "text": [
            "9 8 7\n"
          ]
        }
      ]
    },
    {
      "cell_type": "code",
      "source": [
        "import heapq\n",
        "\n",
        "a = heapq.nlargest(3,test)\n",
        "b = heapq.nsmallest(2,test)\n",
        "max(a,b)"
      ],
      "metadata": {
        "colab": {
          "base_uri": "https://localhost:8080/"
        },
        "id": "L09w5OrbQPgg",
        "outputId": "8ba73792-1739-4d6a-e115-aa5581a338f3"
      },
      "execution_count": 28,
      "outputs": [
        {
          "output_type": "execute_result",
          "data": {
            "text/plain": [
              "[9, 8, 7]"
            ]
          },
          "metadata": {},
          "execution_count": 28
        }
      ]
    },
    {
      "cell_type": "code",
      "source": [],
      "metadata": {
        "id": "AvK1X3a9RbMn"
      },
      "execution_count": null,
      "outputs": []
    }
  ]
}